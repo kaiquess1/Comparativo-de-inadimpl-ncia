{
 "cells": [
  {
   "cell_type": "markdown",
   "id": "27c5bf47",
   "metadata": {
    "papermill": {
     "duration": 0.011804,
     "end_time": "2022-06-28T14:40:08.531285",
     "exception": false,
     "start_time": "2022-06-28T14:40:08.519481",
     "status": "completed"
    },
    "tags": []
   },
   "source": [
    "# **Base de dados**\n",
    "\n",
    "Este banco de dados foi disponibilizado pela instituição de ensino EBAC. O conjunto possui informações de 10127 clientes com perfil variado. Através da análise do banco, desejamos identificar o perfil dos clientes inadimplentes e elaborar uma estratégia para mitigar danos."
   ]
  },
  {
   "cell_type": "code",
   "execution_count": 1,
   "id": "ca4175b6",
   "metadata": {
    "_cell_guid": "b1076dfc-b9ad-4769-8c92-a6c4dae69d19",
    "_uuid": "8f2839f25d086af736a60e9eeb907d3b93b6e0e5",
    "execution": {
     "iopub.execute_input": "2022-06-28T14:40:08.554830Z",
     "iopub.status.busy": "2022-06-28T14:40:08.553993Z",
     "iopub.status.idle": "2022-06-28T14:40:09.649926Z",
     "shell.execute_reply": "2022-06-28T14:40:09.648804Z"
    },
    "papermill": {
     "duration": 1.111098,
     "end_time": "2022-06-28T14:40:09.653003",
     "exception": false,
     "start_time": "2022-06-28T14:40:08.541905",
     "status": "completed"
    },
    "tags": []
   },
   "outputs": [],
   "source": [
    "import pandas as pd\n",
    "import numpy as np\n",
    "import seaborn as sns\n",
    "import matplotlib.pyplot as plt\n",
    "sns.set_style(\"whitegrid\")\n",
    "\n"
   ]
  },
  {
   "cell_type": "code",
   "execution_count": 2,
   "id": "cc05da25",
   "metadata": {
    "execution": {
     "iopub.execute_input": "2022-06-28T14:40:09.677546Z",
     "iopub.status.busy": "2022-06-28T14:40:09.676790Z",
     "iopub.status.idle": "2022-06-28T14:40:09.765202Z",
     "shell.execute_reply": "2022-06-28T14:40:09.764327Z"
    },
    "papermill": {
     "duration": 0.10368,
     "end_time": "2022-06-28T14:40:09.767676",
     "exception": false,
     "start_time": "2022-06-28T14:40:09.663996",
     "status": "completed"
    },
    "tags": []
   },
   "outputs": [
    {
     "data": {
      "text/html": [
       "<div>\n",
       "<style scoped>\n",
       "    .dataframe tbody tr th:only-of-type {\n",
       "        vertical-align: middle;\n",
       "    }\n",
       "\n",
       "    .dataframe tbody tr th {\n",
       "        vertical-align: top;\n",
       "    }\n",
       "\n",
       "    .dataframe thead th {\n",
       "        text-align: right;\n",
       "    }\n",
       "</style>\n",
       "<table border=\"1\" class=\"dataframe\">\n",
       "  <thead>\n",
       "    <tr style=\"text-align: right;\">\n",
       "      <th></th>\n",
       "      <th>id</th>\n",
       "      <th>default</th>\n",
       "      <th>idade</th>\n",
       "      <th>sexo</th>\n",
       "      <th>dependentes</th>\n",
       "      <th>escolaridade</th>\n",
       "      <th>estado_civil</th>\n",
       "      <th>salario_anual</th>\n",
       "      <th>tipo_cartao</th>\n",
       "      <th>meses_de_relacionamento</th>\n",
       "      <th>qtd_produtos</th>\n",
       "      <th>iteracoes_12m</th>\n",
       "      <th>meses_inativo_12m</th>\n",
       "      <th>limite_credito</th>\n",
       "      <th>valor_transacoes_12m</th>\n",
       "      <th>qtd_transacoes_12m</th>\n",
       "    </tr>\n",
       "  </thead>\n",
       "  <tbody>\n",
       "    <tr>\n",
       "      <th>0</th>\n",
       "      <td>768805383</td>\n",
       "      <td>0</td>\n",
       "      <td>45</td>\n",
       "      <td>M</td>\n",
       "      <td>3</td>\n",
       "      <td>ensino medio</td>\n",
       "      <td>casado</td>\n",
       "      <td>$60K - $80K</td>\n",
       "      <td>blue</td>\n",
       "      <td>39</td>\n",
       "      <td>5</td>\n",
       "      <td>3</td>\n",
       "      <td>1</td>\n",
       "      <td>12.691,51</td>\n",
       "      <td>1.144,90</td>\n",
       "      <td>42</td>\n",
       "    </tr>\n",
       "    <tr>\n",
       "      <th>1</th>\n",
       "      <td>818770008</td>\n",
       "      <td>0</td>\n",
       "      <td>49</td>\n",
       "      <td>F</td>\n",
       "      <td>5</td>\n",
       "      <td>mestrado</td>\n",
       "      <td>solteiro</td>\n",
       "      <td>menos que $40K</td>\n",
       "      <td>blue</td>\n",
       "      <td>44</td>\n",
       "      <td>6</td>\n",
       "      <td>2</td>\n",
       "      <td>1</td>\n",
       "      <td>8.256,96</td>\n",
       "      <td>1.291,45</td>\n",
       "      <td>33</td>\n",
       "    </tr>\n",
       "    <tr>\n",
       "      <th>2</th>\n",
       "      <td>713982108</td>\n",
       "      <td>0</td>\n",
       "      <td>51</td>\n",
       "      <td>M</td>\n",
       "      <td>3</td>\n",
       "      <td>mestrado</td>\n",
       "      <td>casado</td>\n",
       "      <td>$80K - $120K</td>\n",
       "      <td>blue</td>\n",
       "      <td>36</td>\n",
       "      <td>4</td>\n",
       "      <td>0</td>\n",
       "      <td>1</td>\n",
       "      <td>3.418,56</td>\n",
       "      <td>1.887,72</td>\n",
       "      <td>20</td>\n",
       "    </tr>\n",
       "    <tr>\n",
       "      <th>3</th>\n",
       "      <td>769911858</td>\n",
       "      <td>0</td>\n",
       "      <td>40</td>\n",
       "      <td>F</td>\n",
       "      <td>4</td>\n",
       "      <td>ensino medio</td>\n",
       "      <td>NaN</td>\n",
       "      <td>menos que $40K</td>\n",
       "      <td>blue</td>\n",
       "      <td>34</td>\n",
       "      <td>3</td>\n",
       "      <td>1</td>\n",
       "      <td>4</td>\n",
       "      <td>3.313,03</td>\n",
       "      <td>1.171,56</td>\n",
       "      <td>20</td>\n",
       "    </tr>\n",
       "    <tr>\n",
       "      <th>4</th>\n",
       "      <td>709106358</td>\n",
       "      <td>0</td>\n",
       "      <td>40</td>\n",
       "      <td>M</td>\n",
       "      <td>3</td>\n",
       "      <td>sem educacao formal</td>\n",
       "      <td>casado</td>\n",
       "      <td>$60K - $80K</td>\n",
       "      <td>blue</td>\n",
       "      <td>21</td>\n",
       "      <td>5</td>\n",
       "      <td>0</td>\n",
       "      <td>1</td>\n",
       "      <td>4.716,22</td>\n",
       "      <td>816,08</td>\n",
       "      <td>28</td>\n",
       "    </tr>\n",
       "    <tr>\n",
       "      <th>...</th>\n",
       "      <td>...</td>\n",
       "      <td>...</td>\n",
       "      <td>...</td>\n",
       "      <td>...</td>\n",
       "      <td>...</td>\n",
       "      <td>...</td>\n",
       "      <td>...</td>\n",
       "      <td>...</td>\n",
       "      <td>...</td>\n",
       "      <td>...</td>\n",
       "      <td>...</td>\n",
       "      <td>...</td>\n",
       "      <td>...</td>\n",
       "      <td>...</td>\n",
       "      <td>...</td>\n",
       "      <td>...</td>\n",
       "    </tr>\n",
       "    <tr>\n",
       "      <th>10122</th>\n",
       "      <td>772366833</td>\n",
       "      <td>0</td>\n",
       "      <td>50</td>\n",
       "      <td>M</td>\n",
       "      <td>2</td>\n",
       "      <td>mestrado</td>\n",
       "      <td>solteiro</td>\n",
       "      <td>$40K - $60K</td>\n",
       "      <td>blue</td>\n",
       "      <td>40</td>\n",
       "      <td>3</td>\n",
       "      <td>3</td>\n",
       "      <td>2</td>\n",
       "      <td>4.003,91</td>\n",
       "      <td>15.476,26</td>\n",
       "      <td>117</td>\n",
       "    </tr>\n",
       "    <tr>\n",
       "      <th>10123</th>\n",
       "      <td>710638233</td>\n",
       "      <td>1</td>\n",
       "      <td>41</td>\n",
       "      <td>M</td>\n",
       "      <td>2</td>\n",
       "      <td>NaN</td>\n",
       "      <td>divorciado</td>\n",
       "      <td>$40K - $60K</td>\n",
       "      <td>blue</td>\n",
       "      <td>25</td>\n",
       "      <td>4</td>\n",
       "      <td>3</td>\n",
       "      <td>2</td>\n",
       "      <td>4.277,04</td>\n",
       "      <td>8.764,88</td>\n",
       "      <td>69</td>\n",
       "    </tr>\n",
       "    <tr>\n",
       "      <th>10124</th>\n",
       "      <td>716506083</td>\n",
       "      <td>1</td>\n",
       "      <td>44</td>\n",
       "      <td>F</td>\n",
       "      <td>1</td>\n",
       "      <td>ensino medio</td>\n",
       "      <td>casado</td>\n",
       "      <td>menos que $40K</td>\n",
       "      <td>blue</td>\n",
       "      <td>36</td>\n",
       "      <td>5</td>\n",
       "      <td>4</td>\n",
       "      <td>3</td>\n",
       "      <td>5.409,16</td>\n",
       "      <td>10.291,78</td>\n",
       "      <td>60</td>\n",
       "    </tr>\n",
       "    <tr>\n",
       "      <th>10125</th>\n",
       "      <td>717406983</td>\n",
       "      <td>1</td>\n",
       "      <td>30</td>\n",
       "      <td>M</td>\n",
       "      <td>2</td>\n",
       "      <td>mestrado</td>\n",
       "      <td>NaN</td>\n",
       "      <td>$40K - $60K</td>\n",
       "      <td>blue</td>\n",
       "      <td>36</td>\n",
       "      <td>4</td>\n",
       "      <td>3</td>\n",
       "      <td>3</td>\n",
       "      <td>5.281,84</td>\n",
       "      <td>8.395,62</td>\n",
       "      <td>62</td>\n",
       "    </tr>\n",
       "    <tr>\n",
       "      <th>10126</th>\n",
       "      <td>714337233</td>\n",
       "      <td>1</td>\n",
       "      <td>43</td>\n",
       "      <td>F</td>\n",
       "      <td>2</td>\n",
       "      <td>mestrado</td>\n",
       "      <td>casado</td>\n",
       "      <td>menos que $40K</td>\n",
       "      <td>silver</td>\n",
       "      <td>25</td>\n",
       "      <td>6</td>\n",
       "      <td>4</td>\n",
       "      <td>2</td>\n",
       "      <td>10.388,80</td>\n",
       "      <td>10.294,96</td>\n",
       "      <td>61</td>\n",
       "    </tr>\n",
       "  </tbody>\n",
       "</table>\n",
       "<p>10127 rows × 16 columns</p>\n",
       "</div>"
      ],
      "text/plain": [
       "              id  default  idade sexo  dependentes         escolaridade  \\\n",
       "0      768805383        0     45    M            3         ensino medio   \n",
       "1      818770008        0     49    F            5             mestrado   \n",
       "2      713982108        0     51    M            3             mestrado   \n",
       "3      769911858        0     40    F            4         ensino medio   \n",
       "4      709106358        0     40    M            3  sem educacao formal   \n",
       "...          ...      ...    ...  ...          ...                  ...   \n",
       "10122  772366833        0     50    M            2             mestrado   \n",
       "10123  710638233        1     41    M            2                  NaN   \n",
       "10124  716506083        1     44    F            1         ensino medio   \n",
       "10125  717406983        1     30    M            2             mestrado   \n",
       "10126  714337233        1     43    F            2             mestrado   \n",
       "\n",
       "      estado_civil   salario_anual tipo_cartao  meses_de_relacionamento  \\\n",
       "0           casado     $60K - $80K        blue                       39   \n",
       "1         solteiro  menos que $40K        blue                       44   \n",
       "2           casado    $80K - $120K        blue                       36   \n",
       "3              NaN  menos que $40K        blue                       34   \n",
       "4           casado     $60K - $80K        blue                       21   \n",
       "...            ...             ...         ...                      ...   \n",
       "10122     solteiro     $40K - $60K        blue                       40   \n",
       "10123   divorciado     $40K - $60K        blue                       25   \n",
       "10124       casado  menos que $40K        blue                       36   \n",
       "10125          NaN     $40K - $60K        blue                       36   \n",
       "10126       casado  menos que $40K      silver                       25   \n",
       "\n",
       "       qtd_produtos  iteracoes_12m  meses_inativo_12m limite_credito  \\\n",
       "0                 5              3                  1      12.691,51   \n",
       "1                 6              2                  1       8.256,96   \n",
       "2                 4              0                  1       3.418,56   \n",
       "3                 3              1                  4       3.313,03   \n",
       "4                 5              0                  1       4.716,22   \n",
       "...             ...            ...                ...            ...   \n",
       "10122             3              3                  2       4.003,91   \n",
       "10123             4              3                  2       4.277,04   \n",
       "10124             5              4                  3       5.409,16   \n",
       "10125             4              3                  3       5.281,84   \n",
       "10126             6              4                  2      10.388,80   \n",
       "\n",
       "      valor_transacoes_12m  qtd_transacoes_12m  \n",
       "0                 1.144,90                  42  \n",
       "1                 1.291,45                  33  \n",
       "2                 1.887,72                  20  \n",
       "3                 1.171,56                  20  \n",
       "4                   816,08                  28  \n",
       "...                    ...                 ...  \n",
       "10122            15.476,26                 117  \n",
       "10123             8.764,88                  69  \n",
       "10124            10.291,78                  60  \n",
       "10125             8.395,62                  62  \n",
       "10126            10.294,96                  61  \n",
       "\n",
       "[10127 rows x 16 columns]"
      ]
     },
     "metadata": {},
     "output_type": "display_data"
    }
   ],
   "source": [
    "leitura_df=pd.read_csv('/kaggle/input/analise-de-dados/Dados_bancarios.csv',na_values='na')\n",
    "display(leitura_df)"
   ]
  },
  {
   "cell_type": "markdown",
   "id": "f8a60d5c",
   "metadata": {
    "papermill": {
     "duration": 0.011229,
     "end_time": "2022-06-28T14:40:09.790281",
     "exception": false,
     "start_time": "2022-06-28T14:40:09.779052",
     "status": "completed"
    },
    "tags": []
   },
   "source": [
    "* Podemos visualizar que existem valores faltantes para alguns clientes"
   ]
  },
  {
   "cell_type": "code",
   "execution_count": 3,
   "id": "64e223bd",
   "metadata": {
    "execution": {
     "iopub.execute_input": "2022-06-28T14:40:09.816205Z",
     "iopub.status.busy": "2022-06-28T14:40:09.815515Z",
     "iopub.status.idle": "2022-06-28T14:40:09.848716Z",
     "shell.execute_reply": "2022-06-28T14:40:09.847259Z"
    },
    "papermill": {
     "duration": 0.049753,
     "end_time": "2022-06-28T14:40:09.851453",
     "exception": false,
     "start_time": "2022-06-28T14:40:09.801700",
     "status": "completed"
    },
    "tags": []
   },
   "outputs": [
    {
     "name": "stdout",
     "output_type": "stream",
     "text": [
      "<class 'pandas.core.frame.DataFrame'>\n",
      "RangeIndex: 10127 entries, 0 to 10126\n",
      "Data columns (total 16 columns):\n",
      " #   Column                   Non-Null Count  Dtype \n",
      "---  ------                   --------------  ----- \n",
      " 0   id                       10127 non-null  int64 \n",
      " 1   default                  10127 non-null  int64 \n",
      " 2   idade                    10127 non-null  int64 \n",
      " 3   sexo                     10127 non-null  object\n",
      " 4   dependentes              10127 non-null  int64 \n",
      " 5   escolaridade             8608 non-null   object\n",
      " 6   estado_civil             9378 non-null   object\n",
      " 7   salario_anual            9015 non-null   object\n",
      " 8   tipo_cartao              10127 non-null  object\n",
      " 9   meses_de_relacionamento  10127 non-null  int64 \n",
      " 10  qtd_produtos             10127 non-null  int64 \n",
      " 11  iteracoes_12m            10127 non-null  int64 \n",
      " 12  meses_inativo_12m        10127 non-null  int64 \n",
      " 13  limite_credito           10127 non-null  object\n",
      " 14  valor_transacoes_12m     10127 non-null  object\n",
      " 15  qtd_transacoes_12m       10127 non-null  int64 \n",
      "dtypes: int64(9), object(7)\n",
      "memory usage: 1.2+ MB\n"
     ]
    }
   ],
   "source": [
    "leitura_df.info()\n"
   ]
  },
  {
   "cell_type": "markdown",
   "id": "f2c4357e",
   "metadata": {
    "papermill": {
     "duration": 0.011105,
     "end_time": "2022-06-28T14:40:09.874466",
     "exception": false,
     "start_time": "2022-06-28T14:40:09.863361",
     "status": "completed"
    },
    "tags": []
   },
   "source": [
    "* Identificamos que as colunas *limite_credito e valor_transacoes_12m* estão com a tipificação errada, uma vez que nas colunas existem um float e não uma string"
   ]
  },
  {
   "cell_type": "code",
   "execution_count": 4,
   "id": "17bf2b83",
   "metadata": {
    "execution": {
     "iopub.execute_input": "2022-06-28T14:40:09.899259Z",
     "iopub.status.busy": "2022-06-28T14:40:09.898877Z",
     "iopub.status.idle": "2022-06-28T14:40:09.910541Z",
     "shell.execute_reply": "2022-06-28T14:40:09.908561Z"
    },
    "papermill": {
     "duration": 0.026968,
     "end_time": "2022-06-28T14:40:09.912956",
     "exception": false,
     "start_time": "2022-06-28T14:40:09.885988",
     "status": "completed"
    },
    "tags": []
   },
   "outputs": [
    {
     "name": "stdout",
     "output_type": "stream",
     "text": [
      "O percentual de clientes adimplente é de 83.93%\n",
      "O percentual de clientes inadimplente é de 16.07%\n"
     ]
    }
   ],
   "source": [
    "total,_=leitura_df.shape\n",
    "adimplente,_=leitura_df[leitura_df['default']==0].shape\n",
    "inadimplente,_=leitura_df[leitura_df['default']==1].shape\n",
    "print(f'O percentual de clientes adimplente é de {round(100* adimplente / total ,2)}%')\n",
    "print(f'O percentual de clientes inadimplente é de {round(100* inadimplente / total ,2)}%')"
   ]
  },
  {
   "cell_type": "markdown",
   "id": "dcca279a",
   "metadata": {
    "papermill": {
     "duration": 0.011192,
     "end_time": "2022-06-28T14:40:09.935701",
     "exception": false,
     "start_time": "2022-06-28T14:40:09.924509",
     "status": "completed"
    },
    "tags": []
   },
   "source": [
    "* Como podemos visualizar, o percentual de clientes inadimplentes é de 16.07%"
   ]
  },
  {
   "cell_type": "code",
   "execution_count": 5,
   "id": "d4a3a55f",
   "metadata": {
    "execution": {
     "iopub.execute_input": "2022-06-28T14:40:09.960872Z",
     "iopub.status.busy": "2022-06-28T14:40:09.960479Z",
     "iopub.status.idle": "2022-06-28T14:40:09.978310Z",
     "shell.execute_reply": "2022-06-28T14:40:09.976980Z"
    },
    "papermill": {
     "duration": 0.033628,
     "end_time": "2022-06-28T14:40:09.980784",
     "exception": false,
     "start_time": "2022-06-28T14:40:09.947156",
     "status": "completed"
    },
    "tags": []
   },
   "outputs": [
    {
     "data": {
      "text/plain": [
       "id                         False\n",
       "default                    False\n",
       "idade                      False\n",
       "sexo                       False\n",
       "dependentes                False\n",
       "escolaridade                True\n",
       "estado_civil                True\n",
       "salario_anual               True\n",
       "tipo_cartao                False\n",
       "meses_de_relacionamento    False\n",
       "qtd_produtos               False\n",
       "iteracoes_12m              False\n",
       "meses_inativo_12m          False\n",
       "limite_credito             False\n",
       "valor_transacoes_12m       False\n",
       "qtd_transacoes_12m         False\n",
       "dtype: bool"
      ]
     },
     "execution_count": 5,
     "metadata": {},
     "output_type": "execute_result"
    }
   ],
   "source": [
    "leitura_df.isna().any()"
   ]
  },
  {
   "cell_type": "markdown",
   "id": "9acc7c63",
   "metadata": {
    "papermill": {
     "duration": 0.011224,
     "end_time": "2022-06-28T14:40:10.003664",
     "exception": false,
     "start_time": "2022-06-28T14:40:09.992440",
     "status": "completed"
    },
    "tags": []
   },
   "source": [
    "* Aqui verificamos que as colunas escolaridade, estado_civil e salario_anual possuem valores faltantes.  "
   ]
  },
  {
   "cell_type": "markdown",
   "id": "382d5a59",
   "metadata": {
    "papermill": {
     "duration": 0.011342,
     "end_time": "2022-06-28T14:40:10.026454",
     "exception": false,
     "start_time": "2022-06-28T14:40:10.015112",
     "status": "completed"
    },
    "tags": []
   },
   "source": [
    "# **Limpeza de dados:**"
   ]
  },
  {
   "cell_type": "code",
   "execution_count": 6,
   "id": "d89649e5",
   "metadata": {
    "execution": {
     "iopub.execute_input": "2022-06-28T14:40:10.051650Z",
     "iopub.status.busy": "2022-06-28T14:40:10.050883Z",
     "iopub.status.idle": "2022-06-28T14:40:10.067545Z",
     "shell.execute_reply": "2022-06-28T14:40:10.066471Z"
    },
    "papermill": {
     "duration": 0.032044,
     "end_time": "2022-06-28T14:40:10.069859",
     "exception": false,
     "start_time": "2022-06-28T14:40:10.037815",
     "status": "completed"
    },
    "tags": []
   },
   "outputs": [],
   "source": [
    "leitura_df.dropna(inplace=True)"
   ]
  },
  {
   "cell_type": "code",
   "execution_count": 7,
   "id": "6ea36917",
   "metadata": {
    "execution": {
     "iopub.execute_input": "2022-06-28T14:40:10.094803Z",
     "iopub.status.busy": "2022-06-28T14:40:10.094409Z",
     "iopub.status.idle": "2022-06-28T14:40:10.105810Z",
     "shell.execute_reply": "2022-06-28T14:40:10.104456Z"
    },
    "papermill": {
     "duration": 0.027452,
     "end_time": "2022-06-28T14:40:10.108749",
     "exception": false,
     "start_time": "2022-06-28T14:40:10.081297",
     "status": "completed"
    },
    "tags": []
   },
   "outputs": [
    {
     "name": "stdout",
     "output_type": "stream",
     "text": [
      "O novo percentual de clientes adimplente é de 84.28%\n",
      "O percentual de clientes adimplente é de 83.93%\n",
      "O novo percentual de clientes inadimplente é de 15.72%\n",
      "O percentual de clientes inadimplente é de 16.07%\n"
     ]
    }
   ],
   "source": [
    "novo_total,_=leitura_df.shape\n",
    "novo_adimplente,_=leitura_df[leitura_df['default']==0].shape\n",
    "novo_inadimplente,_=leitura_df[leitura_df['default']==1].shape\n",
    "print(f'O novo percentual de clientes adimplente é de {round(100* novo_adimplente / novo_total ,2)}%')\n",
    "print(f'O percentual de clientes adimplente é de {round(100* adimplente / total ,2)}%')\n",
    "print(f'O novo percentual de clientes inadimplente é de {round(100* novo_inadimplente / novo_total ,2)}%')\n",
    "print(f'O percentual de clientes inadimplente é de {round(100* inadimplente / total ,2)}%')"
   ]
  },
  {
   "cell_type": "markdown",
   "id": "55721727",
   "metadata": {
    "papermill": {
     "duration": 0.011267,
     "end_time": "2022-06-28T14:40:10.132162",
     "exception": false,
     "start_time": "2022-06-28T14:40:10.120895",
     "status": "completed"
    },
    "tags": []
   },
   "source": [
    "* Verificamos que após a limpeza dos valores faltantes não houve impacto relevante no banco."
   ]
  },
  {
   "cell_type": "code",
   "execution_count": 8,
   "id": "162acab8",
   "metadata": {
    "execution": {
     "iopub.execute_input": "2022-06-28T14:40:10.157596Z",
     "iopub.status.busy": "2022-06-28T14:40:10.157183Z",
     "iopub.status.idle": "2022-06-28T14:40:10.171606Z",
     "shell.execute_reply": "2022-06-28T14:40:10.170317Z"
    },
    "papermill": {
     "duration": 0.030279,
     "end_time": "2022-06-28T14:40:10.173869",
     "exception": false,
     "start_time": "2022-06-28T14:40:10.143590",
     "status": "completed"
    },
    "tags": []
   },
   "outputs": [
    {
     "data": {
      "text/html": [
       "<div>\n",
       "<style scoped>\n",
       "    .dataframe tbody tr th:only-of-type {\n",
       "        vertical-align: middle;\n",
       "    }\n",
       "\n",
       "    .dataframe tbody tr th {\n",
       "        vertical-align: top;\n",
       "    }\n",
       "\n",
       "    .dataframe thead th {\n",
       "        text-align: right;\n",
       "    }\n",
       "</style>\n",
       "<table border=\"1\" class=\"dataframe\">\n",
       "  <thead>\n",
       "    <tr style=\"text-align: right;\">\n",
       "      <th></th>\n",
       "      <th>limite_credito</th>\n",
       "      <th>valor_transacoes_12m</th>\n",
       "    </tr>\n",
       "  </thead>\n",
       "  <tbody>\n",
       "    <tr>\n",
       "      <th>0</th>\n",
       "      <td>12.691,51</td>\n",
       "      <td>1.144,90</td>\n",
       "    </tr>\n",
       "    <tr>\n",
       "      <th>1</th>\n",
       "      <td>8.256,96</td>\n",
       "      <td>1.291,45</td>\n",
       "    </tr>\n",
       "    <tr>\n",
       "      <th>2</th>\n",
       "      <td>3.418,56</td>\n",
       "      <td>1.887,72</td>\n",
       "    </tr>\n",
       "    <tr>\n",
       "      <th>4</th>\n",
       "      <td>4.716,22</td>\n",
       "      <td>816,08</td>\n",
       "    </tr>\n",
       "    <tr>\n",
       "      <th>5</th>\n",
       "      <td>4.010,69</td>\n",
       "      <td>1.088,07</td>\n",
       "    </tr>\n",
       "    <tr>\n",
       "      <th>...</th>\n",
       "      <td>...</td>\n",
       "      <td>...</td>\n",
       "    </tr>\n",
       "    <tr>\n",
       "      <th>10120</th>\n",
       "      <td>13.940,62</td>\n",
       "      <td>15.577,67</td>\n",
       "    </tr>\n",
       "    <tr>\n",
       "      <th>10121</th>\n",
       "      <td>3.688,95</td>\n",
       "      <td>14.596,49</td>\n",
       "    </tr>\n",
       "    <tr>\n",
       "      <th>10122</th>\n",
       "      <td>4.003,91</td>\n",
       "      <td>15.476,26</td>\n",
       "    </tr>\n",
       "    <tr>\n",
       "      <th>10124</th>\n",
       "      <td>5.409,16</td>\n",
       "      <td>10.291,78</td>\n",
       "    </tr>\n",
       "    <tr>\n",
       "      <th>10126</th>\n",
       "      <td>10.388,80</td>\n",
       "      <td>10.294,96</td>\n",
       "    </tr>\n",
       "  </tbody>\n",
       "</table>\n",
       "<p>7081 rows × 2 columns</p>\n",
       "</div>"
      ],
      "text/plain": [
       "      limite_credito valor_transacoes_12m\n",
       "0          12.691,51             1.144,90\n",
       "1           8.256,96             1.291,45\n",
       "2           3.418,56             1.887,72\n",
       "4           4.716,22               816,08\n",
       "5           4.010,69             1.088,07\n",
       "...              ...                  ...\n",
       "10120      13.940,62            15.577,67\n",
       "10121       3.688,95            14.596,49\n",
       "10122       4.003,91            15.476,26\n",
       "10124       5.409,16            10.291,78\n",
       "10126      10.388,80            10.294,96\n",
       "\n",
       "[7081 rows x 2 columns]"
      ]
     },
     "execution_count": 8,
     "metadata": {},
     "output_type": "execute_result"
    }
   ],
   "source": [
    "leitura_df[['limite_credito','valor_transacoes_12m']]"
   ]
  },
  {
   "cell_type": "markdown",
   "id": "b4497343",
   "metadata": {
    "papermill": {
     "duration": 0.01213,
     "end_time": "2022-06-28T14:40:10.197860",
     "exception": false,
     "start_time": "2022-06-28T14:40:10.185730",
     "status": "completed"
    },
    "tags": []
   },
   "source": [
    "* Identificamos que a tipificação das duas colunas estão erradas pois não seguem as regras de pontuação Python "
   ]
  },
  {
   "cell_type": "code",
   "execution_count": 9,
   "id": "6404a4a4",
   "metadata": {
    "execution": {
     "iopub.execute_input": "2022-06-28T14:40:10.224405Z",
     "iopub.status.busy": "2022-06-28T14:40:10.223959Z",
     "iopub.status.idle": "2022-06-28T14:40:10.229667Z",
     "shell.execute_reply": "2022-06-28T14:40:10.228430Z"
    },
    "papermill": {
     "duration": 0.021743,
     "end_time": "2022-06-28T14:40:10.231876",
     "exception": false,
     "start_time": "2022-06-28T14:40:10.210133",
     "status": "completed"
    },
    "tags": []
   },
   "outputs": [],
   "source": [
    "fn=lambda valor:float(valor.replace('.','').replace(',','.'))"
   ]
  },
  {
   "cell_type": "markdown",
   "id": "a48accc5",
   "metadata": {
    "papermill": {
     "duration": 0.011563,
     "end_time": "2022-06-28T14:40:10.255189",
     "exception": false,
     "start_time": "2022-06-28T14:40:10.243626",
     "status": "completed"
    },
    "tags": []
   },
   "source": [
    "* Ajustando a pontuação de acordo com normas Python"
   ]
  },
  {
   "cell_type": "code",
   "execution_count": 10,
   "id": "4df1b194",
   "metadata": {
    "execution": {
     "iopub.execute_input": "2022-06-28T14:40:10.280598Z",
     "iopub.status.busy": "2022-06-28T14:40:10.280199Z",
     "iopub.status.idle": "2022-06-28T14:40:10.300731Z",
     "shell.execute_reply": "2022-06-28T14:40:10.299750Z"
    },
    "papermill": {
     "duration": 0.036401,
     "end_time": "2022-06-28T14:40:10.303363",
     "exception": false,
     "start_time": "2022-06-28T14:40:10.266962",
     "status": "completed"
    },
    "tags": []
   },
   "outputs": [],
   "source": [
    "leitura_df['limite_credito']=leitura_df['limite_credito'].apply(fn)\n",
    "leitura_df['valor_transacoes_12m']=leitura_df['valor_transacoes_12m'].apply(fn)"
   ]
  },
  {
   "cell_type": "code",
   "execution_count": 11,
   "id": "58eb1b84",
   "metadata": {
    "execution": {
     "iopub.execute_input": "2022-06-28T14:40:10.329475Z",
     "iopub.status.busy": "2022-06-28T14:40:10.329055Z",
     "iopub.status.idle": "2022-06-28T14:40:10.343836Z",
     "shell.execute_reply": "2022-06-28T14:40:10.343070Z"
    },
    "papermill": {
     "duration": 0.030511,
     "end_time": "2022-06-28T14:40:10.345794",
     "exception": false,
     "start_time": "2022-06-28T14:40:10.315283",
     "status": "completed"
    },
    "tags": []
   },
   "outputs": [
    {
     "data": {
      "text/html": [
       "<div>\n",
       "<style scoped>\n",
       "    .dataframe tbody tr th:only-of-type {\n",
       "        vertical-align: middle;\n",
       "    }\n",
       "\n",
       "    .dataframe tbody tr th {\n",
       "        vertical-align: top;\n",
       "    }\n",
       "\n",
       "    .dataframe thead th {\n",
       "        text-align: right;\n",
       "    }\n",
       "</style>\n",
       "<table border=\"1\" class=\"dataframe\">\n",
       "  <thead>\n",
       "    <tr style=\"text-align: right;\">\n",
       "      <th></th>\n",
       "      <th>limite_credito</th>\n",
       "      <th>valor_transacoes_12m</th>\n",
       "    </tr>\n",
       "  </thead>\n",
       "  <tbody>\n",
       "    <tr>\n",
       "      <th>0</th>\n",
       "      <td>12691.51</td>\n",
       "      <td>1144.90</td>\n",
       "    </tr>\n",
       "    <tr>\n",
       "      <th>1</th>\n",
       "      <td>8256.96</td>\n",
       "      <td>1291.45</td>\n",
       "    </tr>\n",
       "    <tr>\n",
       "      <th>2</th>\n",
       "      <td>3418.56</td>\n",
       "      <td>1887.72</td>\n",
       "    </tr>\n",
       "    <tr>\n",
       "      <th>4</th>\n",
       "      <td>4716.22</td>\n",
       "      <td>816.08</td>\n",
       "    </tr>\n",
       "    <tr>\n",
       "      <th>5</th>\n",
       "      <td>4010.69</td>\n",
       "      <td>1088.07</td>\n",
       "    </tr>\n",
       "    <tr>\n",
       "      <th>...</th>\n",
       "      <td>...</td>\n",
       "      <td>...</td>\n",
       "    </tr>\n",
       "    <tr>\n",
       "      <th>10120</th>\n",
       "      <td>13940.62</td>\n",
       "      <td>15577.67</td>\n",
       "    </tr>\n",
       "    <tr>\n",
       "      <th>10121</th>\n",
       "      <td>3688.95</td>\n",
       "      <td>14596.49</td>\n",
       "    </tr>\n",
       "    <tr>\n",
       "      <th>10122</th>\n",
       "      <td>4003.91</td>\n",
       "      <td>15476.26</td>\n",
       "    </tr>\n",
       "    <tr>\n",
       "      <th>10124</th>\n",
       "      <td>5409.16</td>\n",
       "      <td>10291.78</td>\n",
       "    </tr>\n",
       "    <tr>\n",
       "      <th>10126</th>\n",
       "      <td>10388.80</td>\n",
       "      <td>10294.96</td>\n",
       "    </tr>\n",
       "  </tbody>\n",
       "</table>\n",
       "<p>7081 rows × 2 columns</p>\n",
       "</div>"
      ],
      "text/plain": [
       "       limite_credito  valor_transacoes_12m\n",
       "0            12691.51               1144.90\n",
       "1             8256.96               1291.45\n",
       "2             3418.56               1887.72\n",
       "4             4716.22                816.08\n",
       "5             4010.69               1088.07\n",
       "...               ...                   ...\n",
       "10120        13940.62              15577.67\n",
       "10121         3688.95              14596.49\n",
       "10122         4003.91              15476.26\n",
       "10124         5409.16              10291.78\n",
       "10126        10388.80              10294.96\n",
       "\n",
       "[7081 rows x 2 columns]"
      ]
     },
     "execution_count": 11,
     "metadata": {},
     "output_type": "execute_result"
    }
   ],
   "source": [
    "leitura_df[['limite_credito','valor_transacoes_12m']]"
   ]
  },
  {
   "cell_type": "markdown",
   "id": "1fb51ec2",
   "metadata": {
    "papermill": {
     "duration": 0.01236,
     "end_time": "2022-06-28T14:40:10.370077",
     "exception": false,
     "start_time": "2022-06-28T14:40:10.357717",
     "status": "completed"
    },
    "tags": []
   },
   "source": [
    "* Colunas ajustadas de acordo com a norma Python"
   ]
  },
  {
   "cell_type": "code",
   "execution_count": 12,
   "id": "e493d3c4",
   "metadata": {
    "execution": {
     "iopub.execute_input": "2022-06-28T14:40:10.396123Z",
     "iopub.status.busy": "2022-06-28T14:40:10.395773Z",
     "iopub.status.idle": "2022-06-28T14:40:10.424118Z",
     "shell.execute_reply": "2022-06-28T14:40:10.423375Z"
    },
    "papermill": {
     "duration": 0.044548,
     "end_time": "2022-06-28T14:40:10.426532",
     "exception": false,
     "start_time": "2022-06-28T14:40:10.381984",
     "status": "completed"
    },
    "tags": []
   },
   "outputs": [
    {
     "data": {
      "text/html": [
       "<div>\n",
       "<style scoped>\n",
       "    .dataframe tbody tr th:only-of-type {\n",
       "        vertical-align: middle;\n",
       "    }\n",
       "\n",
       "    .dataframe tbody tr th {\n",
       "        vertical-align: top;\n",
       "    }\n",
       "\n",
       "    .dataframe thead th {\n",
       "        text-align: right;\n",
       "    }\n",
       "</style>\n",
       "<table border=\"1\" class=\"dataframe\">\n",
       "  <thead>\n",
       "    <tr style=\"text-align: right;\">\n",
       "      <th></th>\n",
       "      <th>count</th>\n",
       "      <th>unique</th>\n",
       "      <th>top</th>\n",
       "      <th>freq</th>\n",
       "    </tr>\n",
       "  </thead>\n",
       "  <tbody>\n",
       "    <tr>\n",
       "      <th>sexo</th>\n",
       "      <td>7081</td>\n",
       "      <td>2</td>\n",
       "      <td>M</td>\n",
       "      <td>3706</td>\n",
       "    </tr>\n",
       "    <tr>\n",
       "      <th>escolaridade</th>\n",
       "      <td>7081</td>\n",
       "      <td>5</td>\n",
       "      <td>mestrado</td>\n",
       "      <td>2591</td>\n",
       "    </tr>\n",
       "    <tr>\n",
       "      <th>estado_civil</th>\n",
       "      <td>7081</td>\n",
       "      <td>3</td>\n",
       "      <td>casado</td>\n",
       "      <td>3564</td>\n",
       "    </tr>\n",
       "    <tr>\n",
       "      <th>salario_anual</th>\n",
       "      <td>7081</td>\n",
       "      <td>5</td>\n",
       "      <td>menos que $40K</td>\n",
       "      <td>2792</td>\n",
       "    </tr>\n",
       "    <tr>\n",
       "      <th>tipo_cartao</th>\n",
       "      <td>7081</td>\n",
       "      <td>4</td>\n",
       "      <td>blue</td>\n",
       "      <td>6598</td>\n",
       "    </tr>\n",
       "  </tbody>\n",
       "</table>\n",
       "</div>"
      ],
      "text/plain": [
       "              count unique             top  freq\n",
       "sexo           7081      2               M  3706\n",
       "escolaridade   7081      5        mestrado  2591\n",
       "estado_civil   7081      3          casado  3564\n",
       "salario_anual  7081      5  menos que $40K  2792\n",
       "tipo_cartao    7081      4            blue  6598"
      ]
     },
     "execution_count": 12,
     "metadata": {},
     "output_type": "execute_result"
    }
   ],
   "source": [
    "leitura_df.select_dtypes('object').describe().transpose()"
   ]
  },
  {
   "cell_type": "code",
   "execution_count": 13,
   "id": "32750152",
   "metadata": {
    "execution": {
     "iopub.execute_input": "2022-06-28T14:40:10.454130Z",
     "iopub.status.busy": "2022-06-28T14:40:10.453470Z",
     "iopub.status.idle": "2022-06-28T14:40:10.499185Z",
     "shell.execute_reply": "2022-06-28T14:40:10.498456Z"
    },
    "papermill": {
     "duration": 0.062368,
     "end_time": "2022-06-28T14:40:10.501444",
     "exception": false,
     "start_time": "2022-06-28T14:40:10.439076",
     "status": "completed"
    },
    "tags": []
   },
   "outputs": [
    {
     "data": {
      "text/html": [
       "<div>\n",
       "<style scoped>\n",
       "    .dataframe tbody tr th:only-of-type {\n",
       "        vertical-align: middle;\n",
       "    }\n",
       "\n",
       "    .dataframe tbody tr th {\n",
       "        vertical-align: top;\n",
       "    }\n",
       "\n",
       "    .dataframe thead th {\n",
       "        text-align: right;\n",
       "    }\n",
       "</style>\n",
       "<table border=\"1\" class=\"dataframe\">\n",
       "  <thead>\n",
       "    <tr style=\"text-align: right;\">\n",
       "      <th></th>\n",
       "      <th>count</th>\n",
       "      <th>mean</th>\n",
       "      <th>std</th>\n",
       "      <th>min</th>\n",
       "      <th>25%</th>\n",
       "      <th>50%</th>\n",
       "      <th>75%</th>\n",
       "      <th>max</th>\n",
       "    </tr>\n",
       "  </thead>\n",
       "  <tbody>\n",
       "    <tr>\n",
       "      <th>default</th>\n",
       "      <td>7081.0</td>\n",
       "      <td>0.157181</td>\n",
       "      <td>0.363997</td>\n",
       "      <td>0.00</td>\n",
       "      <td>0.00</td>\n",
       "      <td>0.00</td>\n",
       "      <td>0.00</td>\n",
       "      <td>1.00</td>\n",
       "    </tr>\n",
       "    <tr>\n",
       "      <th>idade</th>\n",
       "      <td>7081.0</td>\n",
       "      <td>46.347691</td>\n",
       "      <td>8.041225</td>\n",
       "      <td>26.00</td>\n",
       "      <td>41.00</td>\n",
       "      <td>46.00</td>\n",
       "      <td>52.00</td>\n",
       "      <td>73.00</td>\n",
       "    </tr>\n",
       "    <tr>\n",
       "      <th>dependentes</th>\n",
       "      <td>7081.0</td>\n",
       "      <td>2.337805</td>\n",
       "      <td>1.291649</td>\n",
       "      <td>0.00</td>\n",
       "      <td>1.00</td>\n",
       "      <td>2.00</td>\n",
       "      <td>3.00</td>\n",
       "      <td>5.00</td>\n",
       "    </tr>\n",
       "    <tr>\n",
       "      <th>meses_de_relacionamento</th>\n",
       "      <td>7081.0</td>\n",
       "      <td>35.981359</td>\n",
       "      <td>8.002609</td>\n",
       "      <td>13.00</td>\n",
       "      <td>31.00</td>\n",
       "      <td>36.00</td>\n",
       "      <td>40.00</td>\n",
       "      <td>56.00</td>\n",
       "    </tr>\n",
       "    <tr>\n",
       "      <th>qtd_produtos</th>\n",
       "      <td>7081.0</td>\n",
       "      <td>3.819376</td>\n",
       "      <td>1.544444</td>\n",
       "      <td>1.00</td>\n",
       "      <td>3.00</td>\n",
       "      <td>4.00</td>\n",
       "      <td>5.00</td>\n",
       "      <td>6.00</td>\n",
       "    </tr>\n",
       "    <tr>\n",
       "      <th>iteracoes_12m</th>\n",
       "      <td>7081.0</td>\n",
       "      <td>2.454456</td>\n",
       "      <td>1.104917</td>\n",
       "      <td>0.00</td>\n",
       "      <td>2.00</td>\n",
       "      <td>2.00</td>\n",
       "      <td>3.00</td>\n",
       "      <td>6.00</td>\n",
       "    </tr>\n",
       "    <tr>\n",
       "      <th>meses_inativo_12m</th>\n",
       "      <td>7081.0</td>\n",
       "      <td>2.342607</td>\n",
       "      <td>0.995104</td>\n",
       "      <td>0.00</td>\n",
       "      <td>2.00</td>\n",
       "      <td>2.00</td>\n",
       "      <td>3.00</td>\n",
       "      <td>6.00</td>\n",
       "    </tr>\n",
       "    <tr>\n",
       "      <th>limite_credito</th>\n",
       "      <td>7081.0</td>\n",
       "      <td>8493.259524</td>\n",
       "      <td>9126.082105</td>\n",
       "      <td>1438.00</td>\n",
       "      <td>2498.35</td>\n",
       "      <td>4287.22</td>\n",
       "      <td>10729.40</td>\n",
       "      <td>34516.99</td>\n",
       "    </tr>\n",
       "    <tr>\n",
       "      <th>valor_transacoes_12m</th>\n",
       "      <td>7081.0</td>\n",
       "      <td>4394.800669</td>\n",
       "      <td>3468.457771</td>\n",
       "      <td>510.16</td>\n",
       "      <td>2089.63</td>\n",
       "      <td>3831.09</td>\n",
       "      <td>4740.51</td>\n",
       "      <td>17995.49</td>\n",
       "    </tr>\n",
       "    <tr>\n",
       "      <th>qtd_transacoes_12m</th>\n",
       "      <td>7081.0</td>\n",
       "      <td>64.503319</td>\n",
       "      <td>23.809330</td>\n",
       "      <td>10.00</td>\n",
       "      <td>44.00</td>\n",
       "      <td>67.00</td>\n",
       "      <td>80.00</td>\n",
       "      <td>134.00</td>\n",
       "    </tr>\n",
       "  </tbody>\n",
       "</table>\n",
       "</div>"
      ],
      "text/plain": [
       "                          count         mean          std      min      25%  \\\n",
       "default                  7081.0     0.157181     0.363997     0.00     0.00   \n",
       "idade                    7081.0    46.347691     8.041225    26.00    41.00   \n",
       "dependentes              7081.0     2.337805     1.291649     0.00     1.00   \n",
       "meses_de_relacionamento  7081.0    35.981359     8.002609    13.00    31.00   \n",
       "qtd_produtos             7081.0     3.819376     1.544444     1.00     3.00   \n",
       "iteracoes_12m            7081.0     2.454456     1.104917     0.00     2.00   \n",
       "meses_inativo_12m        7081.0     2.342607     0.995104     0.00     2.00   \n",
       "limite_credito           7081.0  8493.259524  9126.082105  1438.00  2498.35   \n",
       "valor_transacoes_12m     7081.0  4394.800669  3468.457771   510.16  2089.63   \n",
       "qtd_transacoes_12m       7081.0    64.503319    23.809330    10.00    44.00   \n",
       "\n",
       "                             50%       75%       max  \n",
       "default                     0.00      0.00      1.00  \n",
       "idade                      46.00     52.00     73.00  \n",
       "dependentes                 2.00      3.00      5.00  \n",
       "meses_de_relacionamento    36.00     40.00     56.00  \n",
       "qtd_produtos                4.00      5.00      6.00  \n",
       "iteracoes_12m               2.00      3.00      6.00  \n",
       "meses_inativo_12m           2.00      3.00      6.00  \n",
       "limite_credito           4287.22  10729.40  34516.99  \n",
       "valor_transacoes_12m     3831.09   4740.51  17995.49  \n",
       "qtd_transacoes_12m         67.00     80.00    134.00  "
      ]
     },
     "execution_count": 13,
     "metadata": {},
     "output_type": "execute_result"
    }
   ],
   "source": [
    "leitura_df.drop('id',axis=1).select_dtypes('number').describe().transpose()"
   ]
  },
  {
   "cell_type": "code",
   "execution_count": 14,
   "id": "40e9821e",
   "metadata": {
    "execution": {
     "iopub.execute_input": "2022-06-28T14:40:10.527897Z",
     "iopub.status.busy": "2022-06-28T14:40:10.527553Z",
     "iopub.status.idle": "2022-06-28T14:40:10.532200Z",
     "shell.execute_reply": "2022-06-28T14:40:10.531084Z"
    },
    "papermill": {
     "duration": 0.020634,
     "end_time": "2022-06-28T14:40:10.534304",
     "exception": false,
     "start_time": "2022-06-28T14:40:10.513670",
     "status": "completed"
    },
    "tags": []
   },
   "outputs": [],
   "source": [
    "coluna='escolaridade'\n",
    "titulos=['Escolaridade dos Cliente',\n",
    "         'Escolaridade dos Clientes Adimplentes',\n",
    "         'Escolaridade dos Cliente Inadimplentes']\n"
   ]
  },
  {
   "cell_type": "code",
   "execution_count": 15,
   "id": "b6edf771",
   "metadata": {
    "execution": {
     "iopub.execute_input": "2022-06-28T14:40:10.560469Z",
     "iopub.status.busy": "2022-06-28T14:40:10.559828Z",
     "iopub.status.idle": "2022-06-28T14:40:10.566277Z",
     "shell.execute_reply": "2022-06-28T14:40:10.565440Z"
    },
    "papermill": {
     "duration": 0.021898,
     "end_time": "2022-06-28T14:40:10.568309",
     "exception": false,
     "start_time": "2022-06-28T14:40:10.546411",
     "status": "completed"
    },
    "tags": []
   },
   "outputs": [],
   "source": [
    "adimplente_df=leitura_df[leitura_df['default']==0]\n",
    "inadimplente_df=leitura_df[leitura_df['default']==1]"
   ]
  },
  {
   "cell_type": "code",
   "execution_count": 16,
   "id": "8d29afa1",
   "metadata": {
    "execution": {
     "iopub.execute_input": "2022-06-28T14:40:10.594587Z",
     "iopub.status.busy": "2022-06-28T14:40:10.593927Z",
     "iopub.status.idle": "2022-06-28T14:40:11.102216Z",
     "shell.execute_reply": "2022-06-28T14:40:11.101306Z"
    },
    "papermill": {
     "duration": 0.524668,
     "end_time": "2022-06-28T14:40:11.104839",
     "exception": false,
     "start_time": "2022-06-28T14:40:10.580171",
     "status": "completed"
    },
    "tags": []
   },
   "outputs": [
    {
     "data": {
      "image/png": "[encoded data removed]",
      "text/plain": [
       "<Figure size 1440x360 with 3 Axes>"
      ]
     },
     "metadata": {},
     "output_type": "display_data"
    }
   ],
   "source": [
    "eixo=0\n",
    "max_y=0 \n",
    "max=leitura_df.select_dtypes('object').describe()[coluna]['freq']*1.1\n",
    "figura, eixos=plt.subplots(1,3, figsize=(20,5),sharex=True)\n",
    "\n",
    "for dataframe in [leitura_df,adimplente_df,inadimplente_df]:\n",
    "  leitura_df_to_plot=dataframe[coluna].value_counts().to_frame()\n",
    "  leitura_df_to_plot.rename(columns={coluna:'frequencia_absoluta'},inplace=True)\n",
    "  leitura_df_to_plot[coluna]=leitura_df_to_plot.index\n",
    "  leitura_df_to_plot.sort_values(by=[coluna], inplace=True)\n",
    "  leitura_df_to_plot.sort_values(by=[coluna])\n",
    "\n",
    "  f= sns.barplot(x=leitura_df_to_plot[coluna],y=leitura_df_to_plot['frequencia_absoluta'], ax=eixos[eixo])\n",
    "  f.set(title=titulos[eixo], xlabel=coluna.capitalize(),ylabel='Frequência Absoluta')\n",
    "  f.set_xticklabels(labels=f.get_xticklabels(),rotation=90)\n",
    "  _,max_y_f=f.get_ylim()\n",
    "  max_y=max_y_f if max_y_f > max_y else max_y\n",
    "  f.set(ylim=(0,max_y))\n",
    "  eixo+=1\n",
    "\n",
    "  figura.show()"
   ]
  },
  {
   "cell_type": "markdown",
   "id": "fae82b2e",
   "metadata": {
    "papermill": {
     "duration": 0.012736,
     "end_time": "2022-06-28T14:40:11.130635",
     "exception": false,
     "start_time": "2022-06-28T14:40:11.117899",
     "status": "completed"
    },
    "tags": []
   },
   "source": [
    "* Não houve variação entre os gráficos"
   ]
  },
  {
   "cell_type": "code",
   "execution_count": 17,
   "id": "85733bcd",
   "metadata": {
    "execution": {
     "iopub.execute_input": "2022-06-28T14:40:11.158262Z",
     "iopub.status.busy": "2022-06-28T14:40:11.157151Z",
     "iopub.status.idle": "2022-06-28T14:40:11.162893Z",
     "shell.execute_reply": "2022-06-28T14:40:11.161891Z"
    },
    "papermill": {
     "duration": 0.021807,
     "end_time": "2022-06-28T14:40:11.164999",
     "exception": false,
     "start_time": "2022-06-28T14:40:11.143192",
     "status": "completed"
    },
    "tags": []
   },
   "outputs": [],
   "source": [
    "coluna='qtd_transacoes_12m'\n",
    "titulos=['Qtd de transações dos clientes',\n",
    "         'Qtd de transaçoes dos clientes adimplentes',\n",
    "         'Qtd de transações do clientes inadimplentes']"
   ]
  },
  {
   "cell_type": "code",
   "execution_count": 18,
   "id": "95ca1e73",
   "metadata": {
    "execution": {
     "iopub.execute_input": "2022-06-28T14:40:11.195448Z",
     "iopub.status.busy": "2022-06-28T14:40:11.194708Z",
     "iopub.status.idle": "2022-06-28T14:40:11.924341Z",
     "shell.execute_reply": "2022-06-28T14:40:11.923364Z"
    },
    "papermill": {
     "duration": 0.746284,
     "end_time": "2022-06-28T14:40:11.926660",
     "exception": false,
     "start_time": "2022-06-28T14:40:11.180376",
     "status": "completed"
    },
    "tags": []
   },
   "outputs": [
    {
     "data": {
      "image/png": "[encoded data removed]",
      "text/plain": [
       "<Figure size 1440x360 with 3 Axes>"
      ]
     },
     "metadata": {},
     "output_type": "display_data"
    }
   ],
   "source": [
    "eixo = 0\n",
    "max_y = 0\n",
    "figura, eixos = plt.subplots(1,3, figsize=(20, 5), sharex=True)\n",
    "for dataframe in [leitura_df, adimplente_df, inadimplente_df]:\n",
    "  f = sns.histplot(x=coluna, data=dataframe, stat='count', ax=eixos[eixo])\n",
    "  f.set(title=titulos[eixo], xlabel=coluna.capitalize(), ylabel='Frequência Absoluta')\n",
    "  _, max_y_f = f.get_ylim()\n",
    "  max_y = max_y_f if max_y_f > max_y else max_y\n",
    "  f.set(ylim=(0, max_y))\n",
    "  eixo += 1\n",
    "figura.show()\n"
   ]
  },
  {
   "cell_type": "markdown",
   "id": "5bbfbea4",
   "metadata": {
    "papermill": {
     "duration": 0.013691,
     "end_time": "2022-06-28T14:40:11.953659",
     "exception": false,
     "start_time": "2022-06-28T14:40:11.939968",
     "status": "completed"
    },
    "tags": []
   },
   "source": [
    "* Idenficamos que o perfil dos clientes inadimplentes são daqueles que realizaram entre 30 a 50 transações"
   ]
  },
  {
   "cell_type": "code",
   "execution_count": 19,
   "id": "07ea14b6",
   "metadata": {
    "execution": {
     "iopub.execute_input": "2022-06-28T14:40:11.982912Z",
     "iopub.status.busy": "2022-06-28T14:40:11.982549Z",
     "iopub.status.idle": "2022-06-28T14:40:11.987271Z",
     "shell.execute_reply": "2022-06-28T14:40:11.986127Z"
    },
    "papermill": {
     "duration": 0.021942,
     "end_time": "2022-06-28T14:40:11.989351",
     "exception": false,
     "start_time": "2022-06-28T14:40:11.967409",
     "status": "completed"
    },
    "tags": []
   },
   "outputs": [],
   "source": [
    "coluna='limite_credito'\n",
    "titulos=['Limite de credito dos clientes',\n",
    "         'Limite de credito dos clientes adimplentes',\n",
    "         'Limite de credito dos cliente inadimplentes']"
   ]
  },
  {
   "cell_type": "code",
   "execution_count": 20,
   "id": "c734eae1",
   "metadata": {
    "execution": {
     "iopub.execute_input": "2022-06-28T14:40:12.017604Z",
     "iopub.status.busy": "2022-06-28T14:40:12.017279Z",
     "iopub.status.idle": "2022-06-28T14:40:12.749751Z",
     "shell.execute_reply": "2022-06-28T14:40:12.748716Z"
    },
    "papermill": {
     "duration": 0.74976,
     "end_time": "2022-06-28T14:40:12.752287",
     "exception": false,
     "start_time": "2022-06-28T14:40:12.002527",
     "status": "completed"
    },
    "tags": []
   },
   "outputs": [
    {
     "data": {
      "image/png": "[encoded data removed]",
      "text/plain": [
       "<Figure size 1440x360 with 3 Axes>"
      ]
     },
     "metadata": {},
     "output_type": "display_data"
    }
   ],
   "source": [
    "eixo = 0\n",
    "max_y = 0\n",
    "figura, eixos = plt.subplots(1,3, figsize=(20, 5), sharex=True)\n",
    "for dataframe in [leitura_df, adimplente_df, inadimplente_df]:\n",
    "  f = sns.histplot(x=coluna, data=dataframe, stat='count', ax=eixos[eixo])\n",
    "  f.set(title=titulos[eixo], xlabel=coluna.capitalize(), ylabel='Frequência Absoluta')\n",
    "  _, max_y_f = f.get_ylim()\n",
    "  max_y = max_y_f if max_y_f > max_y else max_y\n",
    "  f.set(ylim=(0, max_y))\n",
    "  eixo += 1\n",
    "figura.show()"
   ]
  },
  {
   "cell_type": "markdown",
   "id": "a1c95ca5",
   "metadata": {
    "papermill": {
     "duration": 0.01355,
     "end_time": "2022-06-28T14:40:12.779831",
     "exception": false,
     "start_time": "2022-06-28T14:40:12.766281",
     "status": "completed"
    },
    "tags": []
   },
   "source": [
    "* Não houve variação entre os gráficos"
   ]
  },
  {
   "cell_type": "markdown",
   "id": "faa28aa0",
   "metadata": {
    "papermill": {
     "duration": 0.013355,
     "end_time": "2022-06-28T14:40:12.807038",
     "exception": false,
     "start_time": "2022-06-28T14:40:12.793683",
     "status": "completed"
    },
    "tags": []
   },
   "source": [
    "# **Conclusão**\n",
    "\n",
    "Uma possível medida para mitigar os índices de inadimplência, é enviar um pop up com informativo de educação financeira para os clientes com transações entre 30 a 50."
   ]
  },
  {
   "cell_type": "code",
   "execution_count": null,
   "id": "4a9619bf",
   "metadata": {
    "papermill": {
     "duration": 0.013195,
     "end_time": "2022-06-28T14:40:12.834015",
     "exception": false,
     "start_time": "2022-06-28T14:40:12.820820",
     "status": "completed"
    },
    "tags": []
   },
   "outputs": [],
   "source": []
  },
  {
   "cell_type": "code",
   "execution_count": null,
   "id": "3b8ab7d5",
   "metadata": {
    "papermill": {
     "duration": 0.012961,
     "end_time": "2022-06-28T14:40:12.860346",
     "exception": false,
     "start_time": "2022-06-28T14:40:12.847385",
     "status": "completed"
    },
    "tags": []
   },
   "outputs": [],
   "source": []
  },
  {
   "cell_type": "code",
   "execution_count": null,
   "id": "ea1c13ef",
   "metadata": {
    "papermill": {
     "duration": 0.013211,
     "end_time": "2022-06-28T14:40:12.886742",
     "exception": false,
     "start_time": "2022-06-28T14:40:12.873531",
     "status": "completed"
    },
    "tags": []
   },
   "outputs": [],
   "source": []
  },
  {
   "cell_type": "code",
   "execution_count": null,
   "id": "478deb73",
   "metadata": {
    "papermill": {
     "duration": 0.0133,
     "end_time": "2022-06-28T14:40:12.913407",
     "exception": false,
     "start_time": "2022-06-28T14:40:12.900107",
     "status": "completed"
    },
    "tags": []
   },
   "outputs": [],
   "source": []
  },
  {
   "cell_type": "code",
   "execution_count": null,
   "id": "b2de5f17",
   "metadata": {
    "papermill": {
     "duration": 0.012994,
     "end_time": "2022-06-28T14:40:12.939949",
     "exception": false,
     "start_time": "2022-06-28T14:40:12.926955",
     "status": "completed"
    },
    "tags": []
   },
   "outputs": [],
   "source": []
  },
  {
   "cell_type": "code",
   "execution_count": null,
   "id": "ef426fd5",
   "metadata": {
    "papermill": {
     "duration": 0.013697,
     "end_time": "2022-06-28T14:40:12.967211",
     "exception": false,
     "start_time": "2022-06-28T14:40:12.953514",
     "status": "completed"
    },
    "tags": []
   },
   "outputs": [],
   "source": []
  },
  {
   "cell_type": "code",
   "execution_count": null,
   "id": "7a0e296b",
   "metadata": {
    "papermill": {
     "duration": 0.013454,
     "end_time": "2022-06-28T14:40:12.994472",
     "exception": false,
     "start_time": "2022-06-28T14:40:12.981018",
     "status": "completed"
    },
    "tags": []
   },
   "outputs": [],
   "source": []
  },
  {
   "cell_type": "code",
   "execution_count": null,
   "id": "c8bf26ef",
   "metadata": {
    "papermill": {
     "duration": 0.013768,
     "end_time": "2022-06-28T14:40:13.021893",
     "exception": false,
     "start_time": "2022-06-28T14:40:13.008125",
     "status": "completed"
    },
    "tags": []
   },
   "outputs": [],
   "source": []
  },
  {
   "cell_type": "code",
   "execution_count": null,
   "id": "13c3b97e",
   "metadata": {
    "papermill": {
     "duration": 0.013595,
     "end_time": "2022-06-28T14:40:13.049372",
     "exception": false,
     "start_time": "2022-06-28T14:40:13.035777",
     "status": "completed"
    },
    "tags": []
   },
   "outputs": [],
   "source": []
  },
  {
   "cell_type": "code",
   "execution_count": null,
   "id": "13c5c76e",
   "metadata": {
    "papermill": {
     "duration": 0.013717,
     "end_time": "2022-06-28T14:40:13.076903",
     "exception": false,
     "start_time": "2022-06-28T14:40:13.063186",
     "status": "completed"
    },
    "tags": []
   },
   "outputs": [],
   "source": []
  },
  {
   "cell_type": "code",
   "execution_count": null,
   "id": "6ac344f1",
   "metadata": {
    "papermill": {
     "duration": 0.013572,
     "end_time": "2022-06-28T14:40:13.104320",
     "exception": false,
     "start_time": "2022-06-28T14:40:13.090748",
     "status": "completed"
    },
    "tags": []
   },
   "outputs": [],
   "source": []
  },
  {
   "cell_type": "code",
   "execution_count": null,
   "id": "209c9673",
   "metadata": {
    "papermill": {
     "duration": 0.013667,
     "end_time": "2022-06-28T14:40:13.131752",
     "exception": false,
     "start_time": "2022-06-28T14:40:13.118085",
     "status": "completed"
    },
    "tags": []
   },
   "outputs": [],
   "source": []
  },
  {
   "cell_type": "code",
   "execution_count": null,
   "id": "2e97a350",
   "metadata": {
    "papermill": {
     "duration": 0.015563,
     "end_time": "2022-06-28T14:40:13.161402",
     "exception": false,
     "start_time": "2022-06-28T14:40:13.145839",
     "status": "completed"
    },
    "tags": []
   },
   "outputs": [],
   "source": []
  },
  {
   "cell_type": "code",
   "execution_count": null,
   "id": "e1b51471",
   "metadata": {
    "papermill": {
     "duration": 0.013829,
     "end_time": "2022-06-28T14:40:13.189359",
     "exception": false,
     "start_time": "2022-06-28T14:40:13.175530",
     "status": "completed"
    },
    "tags": []
   },
   "outputs": [],
   "source": []
  }
 ],
 "metadata": {
  "kernelspec": {
   "display_name": "Python 3",
   "language": "python",
   "name": "python3"
  },
  "language_info": {
   "codemirror_mode": {
    "name": "ipython",
    "version": 3
   },
   "file_extension": ".py",
   "mimetype": "text/x-python",
   "name": "python",
   "nbconvert_exporter": "python",
   "pygments_lexer": "ipython3",
   "version": "3.7.12"
  },
  "papermill": {
   "default_parameters": {},
   "duration": 15.112922,
   "end_time": "2022-06-28T14:40:13.926037",
   "environment_variables": {},
   "exception": null,
   "input_path": "__notebook__.ipynb",
   "output_path": "__notebook__.ipynb",
   "parameters": {},
   "start_time": "2022-06-28T14:39:58.813115",
   "version": "2.3.4"
  }
 },
 "nbformat": 4,
 "nbformat_minor": 5
}
